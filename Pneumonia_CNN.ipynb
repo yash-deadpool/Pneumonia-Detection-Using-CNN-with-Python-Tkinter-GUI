{
 "cells": [
  {
   "cell_type": "code",
   "execution_count": 1,
   "metadata": {},
   "outputs": [],
   "source": [
    "import cv2\n",
    "import numpy as np \n",
    "import pandas as pd\n",
    "import matplotlib.pyplot as plt\n"
   ]
  },
  {
   "cell_type": "code",
   "execution_count": 2,
   "metadata": {},
   "outputs": [
    {
     "name": "stderr",
     "output_type": "stream",
     "text": [
      "Using TensorFlow backend.\n"
     ]
    }
   ],
   "source": [
    "from keras.models import Sequential\n",
    "from keras.layers import Conv2D\n",
    "from keras.layers import MaxPooling2D\n",
    "from keras.layers import Flatten\n",
    "from keras.layers import Dense"
   ]
  },
  {
   "cell_type": "code",
   "execution_count": 3,
   "metadata": {},
   "outputs": [
    {
     "name": "stdout",
     "output_type": "stream",
     "text": [
      "WARNING:tensorflow:From C:\\ProgramData\\Anaconda3\\lib\\site-packages\\tensorflow\\python\\framework\\op_def_library.py:263: colocate_with (from tensorflow.python.framework.ops) is deprecated and will be removed in a future version.\n",
      "Instructions for updating:\n",
      "Colocations handled automatically by placer.\n"
     ]
    },
    {
     "name": "stderr",
     "output_type": "stream",
     "text": [
      "C:\\ProgramData\\Anaconda3\\lib\\site-packages\\ipykernel_launcher.py:2: UserWarning: Update your `Conv2D` call to the Keras 2 API: `Conv2D(32, (3, 3), input_shape=(64, 64, 3..., activation=\"relu\")`\n",
      "  \n"
     ]
    }
   ],
   "source": [
    "model = Sequential()\n",
    "model.add(Conv2D(32,3,3, input_shape = (64,64,3), activation = 'relu'))\n",
    "model.add(MaxPooling2D(pool_size = (2,2)))\n",
    "model.add(Flatten())\n"
   ]
  },
  {
   "cell_type": "code",
   "execution_count": 4,
   "metadata": {},
   "outputs": [
    {
     "name": "stderr",
     "output_type": "stream",
     "text": [
      "C:\\ProgramData\\Anaconda3\\lib\\site-packages\\ipykernel_launcher.py:1: UserWarning: Update your `Dense` call to the Keras 2 API: `Dense(activation=\"relu\", units=128, kernel_initializer=\"random_uniform\")`\n",
      "  \"\"\"Entry point for launching an IPython kernel.\n",
      "C:\\ProgramData\\Anaconda3\\lib\\site-packages\\ipykernel_launcher.py:2: UserWarning: Update your `Dense` call to the Keras 2 API: `Dense(activation=\"relu\", units=20, kernel_initializer=\"random_uniform\")`\n",
      "  \n",
      "C:\\ProgramData\\Anaconda3\\lib\\site-packages\\ipykernel_launcher.py:3: UserWarning: Update your `Dense` call to the Keras 2 API: `Dense(activation=\"sigmoid\", units=1, kernel_initializer=\"random_uniform\")`\n",
      "  This is separate from the ipykernel package so we can avoid doing imports until\n"
     ]
    }
   ],
   "source": [
    "model.add(Dense(output_dim=128,activation = 'relu', init='random_uniform'))\n",
    "model.add(Dense(output_dim=20,activation='relu',init='random_uniform'))\n",
    "model.add(Dense(output_dim=1,activation = 'sigmoid', init='random_uniform'))\n",
    "model.compile(optimizer = 'adam' , loss= 'binary_crossentropy', metrics = ['accuracy'])\n"
   ]
  },
  {
   "cell_type": "code",
   "execution_count": 5,
   "metadata": {},
   "outputs": [
    {
     "name": "stdout",
     "output_type": "stream",
     "text": [
      "Found 5216 images belonging to 2 classes.\n",
      "Found 16 images belonging to 2 classes.\n",
      "Found 624 images belonging to 2 classes.\n"
     ]
    }
   ],
   "source": [
    "from keras.preprocessing.image import ImageDataGenerator \n",
    "train_datagen = ImageDataGenerator(rescale = 1./255, shear_range = 0.2 , zoom_range = 0.2, horizontal_flip = True)\n",
    "v_train_datagen = ImageDataGenerator(rescale = 1./255, shear_range = 0.2 , zoom_range = 0.2, horizontal_flip = True)#to the images we apply few geometrical transformations to avoid over fitting\n",
    "test_datagen = ImageDataGenerator(rescale = 1./255)\n",
    "x_train = train_datagen.flow_from_directory(r'C:\\Users\\Yash Jain\\Desktop\\chest_xray\\train', target_size = (64,64),  batch_size = 32, class_mode = 'binary')\n",
    "x_val_train=v_train_datagen.flow_from_directory(r'C:\\Users\\Yash Jain\\Desktop\\chest_xray\\val',target_size = (64,64),  batch_size = 32, class_mode = 'binary')\n",
    "x_test = train_datagen.flow_from_directory(r'C:\\Users\\Yash Jain\\Desktop\\chest_xray\\test', target_size = (64,64),  batch_size = 32, class_mode = 'binary')\n"
   ]
  },
  {
   "cell_type": "code",
   "execution_count": 6,
   "metadata": {},
   "outputs": [
    {
     "name": "stdout",
     "output_type": "stream",
     "text": [
      "{'NORMAL': 0, 'PNEUMONIA': 1}\n"
     ]
    }
   ],
   "source": [
    "print(x_train.class_indices)"
   ]
  },
  {
   "cell_type": "code",
   "execution_count": null,
   "metadata": {},
   "outputs": [],
   "source": []
  },
  {
   "cell_type": "code",
   "execution_count": 7,
   "metadata": {},
   "outputs": [
    {
     "name": "stdout",
     "output_type": "stream",
     "text": [
      "WARNING:tensorflow:From C:\\ProgramData\\Anaconda3\\lib\\site-packages\\tensorflow\\python\\ops\\math_ops.py:3066: to_int32 (from tensorflow.python.ops.math_ops) is deprecated and will be removed in a future version.\n",
      "Instructions for updating:\n",
      "Use tf.cast instead.\n"
     ]
    },
    {
     "name": "stderr",
     "output_type": "stream",
     "text": [
      "C:\\ProgramData\\Anaconda3\\lib\\site-packages\\ipykernel_launcher.py:1: UserWarning: The semantics of the Keras 2 argument `steps_per_epoch` is not the same as the Keras 1 argument `samples_per_epoch`. `steps_per_epoch` is the number of batches to draw from the generator at each epoch. Basically steps_per_epoch = samples_per_epoch/batch_size. Similarly `nb_val_samples`->`validation_steps` and `val_samples`->`steps` arguments have changed. Update your method calls accordingly.\n",
      "  \"\"\"Entry point for launching an IPython kernel.\n",
      "C:\\ProgramData\\Anaconda3\\lib\\site-packages\\ipykernel_launcher.py:1: UserWarning: Update your `fit_generator` call to the Keras 2 API: `fit_generator(<keras_pre..., epochs=50, validation_data=<keras_pre..., steps_per_epoch=62, validation_steps=16)`\n",
      "  \"\"\"Entry point for launching an IPython kernel.\n"
     ]
    },
    {
     "name": "stdout",
     "output_type": "stream",
     "text": [
      "Epoch 1/50\n",
      "62/62 [==============================] - 69s 1s/step - loss: 0.5700 - acc: 0.7429 - val_loss: 0.8471 - val_acc: 0.5000\n",
      "Epoch 2/50\n",
      "62/62 [==============================] - 67s 1s/step - loss: 0.4106 - acc: 0.8135 - val_loss: 0.7920 - val_acc: 0.6367\n",
      "Epoch 3/50\n",
      "62/62 [==============================] - 59s 945ms/step - loss: 0.3029 - acc: 0.8649 - val_loss: 0.4905 - val_acc: 0.7930\n",
      "Epoch 4/50\n",
      "62/62 [==============================] - 47s 763ms/step - loss: 0.2934 - acc: 0.8785 - val_loss: 0.6075 - val_acc: 0.7578\n",
      "Epoch 5/50\n",
      "62/62 [==============================] - 47s 753ms/step - loss: 0.2799 - acc: 0.8816 - val_loss: 0.5207 - val_acc: 0.7891\n",
      "Epoch 6/50\n",
      "62/62 [==============================] - 47s 759ms/step - loss: 0.2364 - acc: 0.8982 - val_loss: 0.5026 - val_acc: 0.7812\n",
      "Epoch 7/50\n",
      "62/62 [==============================] - 46s 744ms/step - loss: 0.2418 - acc: 0.8997 - val_loss: 0.7989 - val_acc: 0.6172\n",
      "Epoch 8/50\n",
      "62/62 [==============================] - 50s 812ms/step - loss: 0.2501 - acc: 0.8972 - val_loss: 0.6577 - val_acc: 0.7109\n",
      "Epoch 9/50\n",
      "62/62 [==============================] - 47s 765ms/step - loss: 0.2299 - acc: 0.9022 - val_loss: 0.5024 - val_acc: 0.7695\n",
      "Epoch 10/50\n",
      "62/62 [==============================] - 45s 733ms/step - loss: 0.2108 - acc: 0.9143 - val_loss: 1.0667 - val_acc: 0.6289\n",
      "Epoch 11/50\n",
      "62/62 [==============================] - 46s 741ms/step - loss: 0.2179 - acc: 0.9098 - val_loss: 0.5700 - val_acc: 0.7656\n",
      "Epoch 12/50\n",
      "62/62 [==============================] - 47s 753ms/step - loss: 0.2228 - acc: 0.9032 - val_loss: 0.6694 - val_acc: 0.7227\n",
      "Epoch 13/50\n",
      "62/62 [==============================] - 47s 758ms/step - loss: 0.2140 - acc: 0.9163 - val_loss: 0.6794 - val_acc: 0.7422\n",
      "Epoch 14/50\n",
      "62/62 [==============================] - 47s 751ms/step - loss: 0.1945 - acc: 0.9254 - val_loss: 0.8392 - val_acc: 0.7031\n",
      "Epoch 15/50\n",
      "62/62 [==============================] - 46s 749ms/step - loss: 0.1838 - acc: 0.9239 - val_loss: 0.7637 - val_acc: 0.7148\n",
      "Epoch 16/50\n",
      "62/62 [==============================] - 47s 751ms/step - loss: 0.2179 - acc: 0.9068 - val_loss: 0.8062 - val_acc: 0.6641\n",
      "Epoch 17/50\n",
      "62/62 [==============================] - 46s 748ms/step - loss: 0.1912 - acc: 0.9239 - val_loss: 0.6754 - val_acc: 0.7070\n",
      "Epoch 18/50\n",
      "62/62 [==============================] - 46s 748ms/step - loss: 0.1871 - acc: 0.9249 - val_loss: 0.5775 - val_acc: 0.7578\n",
      "Epoch 19/50\n",
      "62/62 [==============================] - 46s 739ms/step - loss: 0.1890 - acc: 0.9304 - val_loss: 0.7304 - val_acc: 0.6875\n",
      "Epoch 20/50\n",
      "62/62 [==============================] - 46s 736ms/step - loss: 0.1632 - acc: 0.9355 - val_loss: 1.0271 - val_acc: 0.6406\n",
      "Epoch 21/50\n",
      "62/62 [==============================] - 48s 769ms/step - loss: 0.1590 - acc: 0.9325 - val_loss: 0.9007 - val_acc: 0.6797\n",
      "Epoch 22/50\n",
      "62/62 [==============================] - 47s 764ms/step - loss: 0.1683 - acc: 0.9330 - val_loss: 0.5733 - val_acc: 0.7656\n",
      "Epoch 23/50\n",
      "62/62 [==============================] - 50s 807ms/step - loss: 0.1515 - acc: 0.9425 - val_loss: 0.6770 - val_acc: 0.7539\n",
      "Epoch 24/50\n",
      "62/62 [==============================] - 47s 759ms/step - loss: 0.1491 - acc: 0.9435 - val_loss: 0.7189 - val_acc: 0.7422\n",
      "Epoch 25/50\n",
      "62/62 [==============================] - 48s 772ms/step - loss: 0.1547 - acc: 0.9365 - val_loss: 0.4147 - val_acc: 0.8086\n",
      "Epoch 26/50\n",
      "62/62 [==============================] - 48s 770ms/step - loss: 0.1622 - acc: 0.9400 - val_loss: 0.4363 - val_acc: 0.7461\n",
      "Epoch 27/50\n",
      "62/62 [==============================] - 49s 786ms/step - loss: 0.1431 - acc: 0.9451 - val_loss: 0.7117 - val_acc: 0.7305\n",
      "Epoch 28/50\n",
      "62/62 [==============================] - 51s 824ms/step - loss: 0.1365 - acc: 0.9501 - val_loss: 0.5175 - val_acc: 0.7695\n",
      "Epoch 29/50\n",
      "62/62 [==============================] - 52s 835ms/step - loss: 0.1518 - acc: 0.9385 - val_loss: 1.3816 - val_acc: 0.6133\n",
      "Epoch 30/50\n",
      "62/62 [==============================] - 52s 842ms/step - loss: 0.1455 - acc: 0.9461 - val_loss: 0.6345 - val_acc: 0.7344\n",
      "Epoch 31/50\n",
      "62/62 [==============================] - 50s 804ms/step - loss: 0.1490 - acc: 0.9400 - val_loss: 0.5869 - val_acc: 0.7266\n",
      "Epoch 32/50\n",
      "62/62 [==============================] - 47s 762ms/step - loss: 0.1407 - acc: 0.9506 - val_loss: 0.5277 - val_acc: 0.7695\n",
      "Epoch 33/50\n",
      "62/62 [==============================] - 50s 806ms/step - loss: 0.1403 - acc: 0.9476 - val_loss: 0.6027 - val_acc: 0.7188\n",
      "Epoch 34/50\n",
      "62/62 [==============================] - 50s 804ms/step - loss: 0.1434 - acc: 0.9446 - val_loss: 0.9995 - val_acc: 0.6250\n",
      "Epoch 35/50\n",
      "62/62 [==============================] - 48s 776ms/step - loss: 0.1408 - acc: 0.9461 - val_loss: 1.1354 - val_acc: 0.6211\n",
      "Epoch 36/50\n",
      "62/62 [==============================] - 50s 799ms/step - loss: 0.1628 - acc: 0.9294 - val_loss: 0.4879 - val_acc: 0.7891\n",
      "Epoch 37/50\n",
      "62/62 [==============================] - 46s 738ms/step - loss: 0.1412 - acc: 0.9471 - val_loss: 0.4370 - val_acc: 0.7969\n",
      "Epoch 38/50\n",
      "62/62 [==============================] - 48s 778ms/step - loss: 0.1203 - acc: 0.9531 - val_loss: 0.4405 - val_acc: 0.7969\n",
      "Epoch 39/50\n",
      "62/62 [==============================] - 51s 822ms/step - loss: 0.1292 - acc: 0.9496 - val_loss: 0.3201 - val_acc: 0.8320\n",
      "Epoch 40/50\n",
      "62/62 [==============================] - 53s 863ms/step - loss: 0.1291 - acc: 0.9491 - val_loss: 0.6989 - val_acc: 0.6875\n",
      "Epoch 41/50\n",
      "62/62 [==============================] - 50s 813ms/step - loss: 0.1343 - acc: 0.9486 - val_loss: 0.7318 - val_acc: 0.6992\n",
      "Epoch 42/50\n",
      "62/62 [==============================] - 48s 779ms/step - loss: 0.1198 - acc: 0.9521 - val_loss: 0.8626 - val_acc: 0.6758\n",
      "Epoch 43/50\n",
      "62/62 [==============================] - 47s 759ms/step - loss: 0.1196 - acc: 0.9612 - val_loss: 0.5743 - val_acc: 0.7383\n",
      "Epoch 44/50\n",
      "62/62 [==============================] - 51s 824ms/step - loss: 0.1250 - acc: 0.9551 - val_loss: 0.4920 - val_acc: 0.7734\n",
      "Epoch 45/50\n",
      "62/62 [==============================] - 52s 831ms/step - loss: 0.1405 - acc: 0.9451 - val_loss: 0.6870 - val_acc: 0.7188\n",
      "Epoch 46/50\n",
      "62/62 [==============================] - 49s 797ms/step - loss: 0.1147 - acc: 0.9551 - val_loss: 0.4878 - val_acc: 0.8008\n",
      "Epoch 47/50\n",
      "62/62 [==============================] - 56s 904ms/step - loss: 0.1339 - acc: 0.9461 - val_loss: 0.7734 - val_acc: 0.6797\n",
      "Epoch 48/50\n",
      "62/62 [==============================] - 51s 825ms/step - loss: 0.1263 - acc: 0.9551 - val_loss: 0.3829 - val_acc: 0.8398\n",
      "Epoch 49/50\n",
      "62/62 [==============================] - 48s 768ms/step - loss: 0.1313 - acc: 0.9506 - val_loss: 0.7204 - val_acc: 0.6797\n",
      "Epoch 50/50\n",
      "62/62 [==============================] - 46s 749ms/step - loss: 0.1165 - acc: 0.9541 - val_loss: 0.7466 - val_acc: 0.6797\n"
     ]
    },
    {
     "data": {
      "text/plain": [
       "<keras.callbacks.History at 0x235dc7a1860>"
      ]
     },
     "execution_count": 7,
     "metadata": {},
     "output_type": "execute_result"
    }
   ],
   "source": [
    "model.fit_generator(x_train, samples_per_epoch = 2000, epochs = 50, validation_data = x_val_train, nb_val_samples =16 )"
   ]
  },
  {
   "cell_type": "code",
   "execution_count": 9,
   "metadata": {},
   "outputs": [
    {
     "ename": "AttributeError",
     "evalue": "'DirectoryIterator' object has no attribute 'ndim'",
     "output_type": "error",
     "traceback": [
      "\u001b[1;31m---------------------------------------------------------------------------\u001b[0m",
      "\u001b[1;31mAttributeError\u001b[0m                            Traceback (most recent call last)",
      "\u001b[1;32m<ipython-input-9-77e3652b0a4e>\u001b[0m in \u001b[0;36m<module>\u001b[1;34m\u001b[0m\n\u001b[1;32m----> 1\u001b[1;33m \u001b[0my_pred\u001b[0m\u001b[1;33m=\u001b[0m\u001b[0mmodel\u001b[0m\u001b[1;33m.\u001b[0m\u001b[0mpredict\u001b[0m\u001b[1;33m(\u001b[0m\u001b[0mx_test\u001b[0m\u001b[1;33m)\u001b[0m\u001b[1;33m\u001b[0m\u001b[1;33m\u001b[0m\u001b[0m\n\u001b[0m",
      "\u001b[1;32mC:\\ProgramData\\Anaconda3\\lib\\site-packages\\keras\\engine\\training.py\u001b[0m in \u001b[0;36mpredict\u001b[1;34m(self, x, batch_size, verbose, steps)\u001b[0m\n\u001b[0;32m   1147\u001b[0m                              'argument.')\n\u001b[0;32m   1148\u001b[0m         \u001b[1;31m# Validate user data.\u001b[0m\u001b[1;33m\u001b[0m\u001b[1;33m\u001b[0m\u001b[1;33m\u001b[0m\u001b[0m\n\u001b[1;32m-> 1149\u001b[1;33m         \u001b[0mx\u001b[0m\u001b[1;33m,\u001b[0m \u001b[0m_\u001b[0m\u001b[1;33m,\u001b[0m \u001b[0m_\u001b[0m \u001b[1;33m=\u001b[0m \u001b[0mself\u001b[0m\u001b[1;33m.\u001b[0m\u001b[0m_standardize_user_data\u001b[0m\u001b[1;33m(\u001b[0m\u001b[0mx\u001b[0m\u001b[1;33m)\u001b[0m\u001b[1;33m\u001b[0m\u001b[1;33m\u001b[0m\u001b[0m\n\u001b[0m\u001b[0;32m   1150\u001b[0m         \u001b[1;32mif\u001b[0m \u001b[0mself\u001b[0m\u001b[1;33m.\u001b[0m\u001b[0mstateful\u001b[0m\u001b[1;33m:\u001b[0m\u001b[1;33m\u001b[0m\u001b[1;33m\u001b[0m\u001b[0m\n\u001b[0;32m   1151\u001b[0m             \u001b[1;32mif\u001b[0m \u001b[0mx\u001b[0m\u001b[1;33m[\u001b[0m\u001b[1;36m0\u001b[0m\u001b[1;33m]\u001b[0m\u001b[1;33m.\u001b[0m\u001b[0mshape\u001b[0m\u001b[1;33m[\u001b[0m\u001b[1;36m0\u001b[0m\u001b[1;33m]\u001b[0m \u001b[1;33m>\u001b[0m \u001b[0mbatch_size\u001b[0m \u001b[1;32mand\u001b[0m \u001b[0mx\u001b[0m\u001b[1;33m[\u001b[0m\u001b[1;36m0\u001b[0m\u001b[1;33m]\u001b[0m\u001b[1;33m.\u001b[0m\u001b[0mshape\u001b[0m\u001b[1;33m[\u001b[0m\u001b[1;36m0\u001b[0m\u001b[1;33m]\u001b[0m \u001b[1;33m%\u001b[0m \u001b[0mbatch_size\u001b[0m \u001b[1;33m!=\u001b[0m \u001b[1;36m0\u001b[0m\u001b[1;33m:\u001b[0m\u001b[1;33m\u001b[0m\u001b[1;33m\u001b[0m\u001b[0m\n",
      "\u001b[1;32mC:\\ProgramData\\Anaconda3\\lib\\site-packages\\keras\\engine\\training.py\u001b[0m in \u001b[0;36m_standardize_user_data\u001b[1;34m(self, x, y, sample_weight, class_weight, check_array_lengths, batch_size)\u001b[0m\n\u001b[0;32m    749\u001b[0m             \u001b[0mfeed_input_shapes\u001b[0m\u001b[1;33m,\u001b[0m\u001b[1;33m\u001b[0m\u001b[1;33m\u001b[0m\u001b[0m\n\u001b[0;32m    750\u001b[0m             \u001b[0mcheck_batch_axis\u001b[0m\u001b[1;33m=\u001b[0m\u001b[1;32mFalse\u001b[0m\u001b[1;33m,\u001b[0m  \u001b[1;31m# Don't enforce the batch size.\u001b[0m\u001b[1;33m\u001b[0m\u001b[1;33m\u001b[0m\u001b[0m\n\u001b[1;32m--> 751\u001b[1;33m             exception_prefix='input')\n\u001b[0m\u001b[0;32m    752\u001b[0m \u001b[1;33m\u001b[0m\u001b[0m\n\u001b[0;32m    753\u001b[0m         \u001b[1;32mif\u001b[0m \u001b[0my\u001b[0m \u001b[1;32mis\u001b[0m \u001b[1;32mnot\u001b[0m \u001b[1;32mNone\u001b[0m\u001b[1;33m:\u001b[0m\u001b[1;33m\u001b[0m\u001b[1;33m\u001b[0m\u001b[0m\n",
      "\u001b[1;32mC:\\ProgramData\\Anaconda3\\lib\\site-packages\\keras\\engine\\training_utils.py\u001b[0m in \u001b[0;36mstandardize_input_data\u001b[1;34m(data, names, shapes, check_batch_axis, exception_prefix)\u001b[0m\n\u001b[0;32m     90\u001b[0m         \u001b[0mdata\u001b[0m \u001b[1;33m=\u001b[0m \u001b[0mdata\u001b[0m\u001b[1;33m.\u001b[0m\u001b[0mvalues\u001b[0m \u001b[1;32mif\u001b[0m \u001b[0mdata\u001b[0m\u001b[1;33m.\u001b[0m\u001b[0m__class__\u001b[0m\u001b[1;33m.\u001b[0m\u001b[0m__name__\u001b[0m \u001b[1;33m==\u001b[0m \u001b[1;34m'DataFrame'\u001b[0m \u001b[1;32melse\u001b[0m \u001b[0mdata\u001b[0m\u001b[1;33m\u001b[0m\u001b[1;33m\u001b[0m\u001b[0m\n\u001b[0;32m     91\u001b[0m         \u001b[0mdata\u001b[0m \u001b[1;33m=\u001b[0m \u001b[1;33m[\u001b[0m\u001b[0mdata\u001b[0m\u001b[1;33m]\u001b[0m\u001b[1;33m\u001b[0m\u001b[1;33m\u001b[0m\u001b[0m\n\u001b[1;32m---> 92\u001b[1;33m     \u001b[0mdata\u001b[0m \u001b[1;33m=\u001b[0m \u001b[1;33m[\u001b[0m\u001b[0mstandardize_single_array\u001b[0m\u001b[1;33m(\u001b[0m\u001b[0mx\u001b[0m\u001b[1;33m)\u001b[0m \u001b[1;32mfor\u001b[0m \u001b[0mx\u001b[0m \u001b[1;32min\u001b[0m \u001b[0mdata\u001b[0m\u001b[1;33m]\u001b[0m\u001b[1;33m\u001b[0m\u001b[1;33m\u001b[0m\u001b[0m\n\u001b[0m\u001b[0;32m     93\u001b[0m \u001b[1;33m\u001b[0m\u001b[0m\n\u001b[0;32m     94\u001b[0m     \u001b[1;32mif\u001b[0m \u001b[0mlen\u001b[0m\u001b[1;33m(\u001b[0m\u001b[0mdata\u001b[0m\u001b[1;33m)\u001b[0m \u001b[1;33m!=\u001b[0m \u001b[0mlen\u001b[0m\u001b[1;33m(\u001b[0m\u001b[0mnames\u001b[0m\u001b[1;33m)\u001b[0m\u001b[1;33m:\u001b[0m\u001b[1;33m\u001b[0m\u001b[1;33m\u001b[0m\u001b[0m\n",
      "\u001b[1;32mC:\\ProgramData\\Anaconda3\\lib\\site-packages\\keras\\engine\\training_utils.py\u001b[0m in \u001b[0;36m<listcomp>\u001b[1;34m(.0)\u001b[0m\n\u001b[0;32m     90\u001b[0m         \u001b[0mdata\u001b[0m \u001b[1;33m=\u001b[0m \u001b[0mdata\u001b[0m\u001b[1;33m.\u001b[0m\u001b[0mvalues\u001b[0m \u001b[1;32mif\u001b[0m \u001b[0mdata\u001b[0m\u001b[1;33m.\u001b[0m\u001b[0m__class__\u001b[0m\u001b[1;33m.\u001b[0m\u001b[0m__name__\u001b[0m \u001b[1;33m==\u001b[0m \u001b[1;34m'DataFrame'\u001b[0m \u001b[1;32melse\u001b[0m \u001b[0mdata\u001b[0m\u001b[1;33m\u001b[0m\u001b[1;33m\u001b[0m\u001b[0m\n\u001b[0;32m     91\u001b[0m         \u001b[0mdata\u001b[0m \u001b[1;33m=\u001b[0m \u001b[1;33m[\u001b[0m\u001b[0mdata\u001b[0m\u001b[1;33m]\u001b[0m\u001b[1;33m\u001b[0m\u001b[1;33m\u001b[0m\u001b[0m\n\u001b[1;32m---> 92\u001b[1;33m     \u001b[0mdata\u001b[0m \u001b[1;33m=\u001b[0m \u001b[1;33m[\u001b[0m\u001b[0mstandardize_single_array\u001b[0m\u001b[1;33m(\u001b[0m\u001b[0mx\u001b[0m\u001b[1;33m)\u001b[0m \u001b[1;32mfor\u001b[0m \u001b[0mx\u001b[0m \u001b[1;32min\u001b[0m \u001b[0mdata\u001b[0m\u001b[1;33m]\u001b[0m\u001b[1;33m\u001b[0m\u001b[1;33m\u001b[0m\u001b[0m\n\u001b[0m\u001b[0;32m     93\u001b[0m \u001b[1;33m\u001b[0m\u001b[0m\n\u001b[0;32m     94\u001b[0m     \u001b[1;32mif\u001b[0m \u001b[0mlen\u001b[0m\u001b[1;33m(\u001b[0m\u001b[0mdata\u001b[0m\u001b[1;33m)\u001b[0m \u001b[1;33m!=\u001b[0m \u001b[0mlen\u001b[0m\u001b[1;33m(\u001b[0m\u001b[0mnames\u001b[0m\u001b[1;33m)\u001b[0m\u001b[1;33m:\u001b[0m\u001b[1;33m\u001b[0m\u001b[1;33m\u001b[0m\u001b[0m\n",
      "\u001b[1;32mC:\\ProgramData\\Anaconda3\\lib\\site-packages\\keras\\engine\\training_utils.py\u001b[0m in \u001b[0;36mstandardize_single_array\u001b[1;34m(x)\u001b[0m\n\u001b[0;32m     25\u001b[0m                 'Got tensor with shape: %s' % str(shape))\n\u001b[0;32m     26\u001b[0m         \u001b[1;32mreturn\u001b[0m \u001b[0mx\u001b[0m\u001b[1;33m\u001b[0m\u001b[1;33m\u001b[0m\u001b[0m\n\u001b[1;32m---> 27\u001b[1;33m     \u001b[1;32melif\u001b[0m \u001b[0mx\u001b[0m\u001b[1;33m.\u001b[0m\u001b[0mndim\u001b[0m \u001b[1;33m==\u001b[0m \u001b[1;36m1\u001b[0m\u001b[1;33m:\u001b[0m\u001b[1;33m\u001b[0m\u001b[1;33m\u001b[0m\u001b[0m\n\u001b[0m\u001b[0;32m     28\u001b[0m         \u001b[0mx\u001b[0m \u001b[1;33m=\u001b[0m \u001b[0mnp\u001b[0m\u001b[1;33m.\u001b[0m\u001b[0mexpand_dims\u001b[0m\u001b[1;33m(\u001b[0m\u001b[0mx\u001b[0m\u001b[1;33m,\u001b[0m \u001b[1;36m1\u001b[0m\u001b[1;33m)\u001b[0m\u001b[1;33m\u001b[0m\u001b[1;33m\u001b[0m\u001b[0m\n\u001b[0;32m     29\u001b[0m     \u001b[1;32mreturn\u001b[0m \u001b[0mx\u001b[0m\u001b[1;33m\u001b[0m\u001b[1;33m\u001b[0m\u001b[0m\n",
      "\u001b[1;31mAttributeError\u001b[0m: 'DirectoryIterator' object has no attribute 'ndim'"
     ]
    }
   ],
   "source": []
  },
  {
   "cell_type": "code",
   "execution_count": 10,
   "metadata": {},
   "outputs": [],
   "source": [
    "model.save('Pneumonina_CNN.h5')"
   ]
  }
 ],
 "metadata": {
  "kernelspec": {
   "display_name": "Python 3",
   "language": "python",
   "name": "python3"
  },
  "language_info": {
   "codemirror_mode": {
    "name": "ipython",
    "version": 3
   },
   "file_extension": ".py",
   "mimetype": "text/x-python",
   "name": "python",
   "nbconvert_exporter": "python",
   "pygments_lexer": "ipython3",
   "version": "3.6.8"
  }
 },
 "nbformat": 4,
 "nbformat_minor": 2
}
